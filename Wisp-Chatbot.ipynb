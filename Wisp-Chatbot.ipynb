{
 "cells": [
  {
   "cell_type": "markdown",
   "id": "34742618",
   "metadata": {},
   "source": [
    "# Installing Necessary Libraries"
   ]
  },
  {
   "cell_type": "code",
   "execution_count": 6,
   "id": "78275f93",
   "metadata": {},
   "outputs": [],
   "source": [
    "from openai import OpenAI\n",
    "import csv\n",
    "import json\n",
    "import random"
   ]
  },
  {
   "cell_type": "markdown",
   "id": "3e6f6b2c",
   "metadata": {},
   "source": [
    "# Defining my client key"
   ]
  },
  {
   "cell_type": "code",
   "execution_count": 8,
   "id": "99f98f7b",
   "metadata": {},
   "outputs": [],
   "source": [
    "client = OpenAI(api_key=\"your api key\")"
   ]
  },
  {
   "cell_type": "markdown",
   "id": "97b80003",
   "metadata": {},
   "source": [
    "# Loading the dataset"
   ]
  },
  {
   "cell_type": "code",
   "execution_count": 11,
   "id": "f40797f0",
   "metadata": {},
   "outputs": [],
   "source": [
    "# load csv\n",
    "\n",
    "comment_list = []\n",
    "response_list = []\n",
    "\n",
    "with open(r\"C:\\Users\\mahes\\Downloads\\archive (2)\\reddit_text-davinci-002.csv\",encoding='utf-8') as file:\n",
    "    file = csv.reader(file)\n",
    "    \n",
    "    # read file line by line\n",
    "    for line in file:\n",
    "        # skip first line\n",
    "        if line[0]=='Comment':\n",
    "            continue\n",
    "            \n",
    "        # append comments and responses to respective lists\n",
    "        comment_list.append(line[0])\n",
    "        response_list.append(line[1])"
   ]
  },
  {
   "cell_type": "code",
   "execution_count": 8,
   "id": "5726fcc6",
   "metadata": {},
   "outputs": [
    {
     "data": {
      "text/plain": [
       "3180"
      ]
     },
     "execution_count": 8,
     "metadata": {},
     "output_type": "execute_result"
    }
   ],
   "source": [
    "len(comment_list)"
   ]
  },
  {
   "cell_type": "markdown",
   "id": "bbca26be",
   "metadata": {},
   "source": [
    "# Formatting data "
   ]
  },
  {
   "cell_type": "code",
   "execution_count": 12,
   "id": "f554dc85",
   "metadata": {},
   "outputs": [],
   "source": [
    "# construct training examples\n",
    "example_list = []\n",
    "\n",
    "intstructions_string_few_shot = \"\"\"Wisp is a compassionate mental health counselor offering support and guidance to [someone struggling with mental illness]. \n",
    "How would you encourage them to prioritize self-care, seek professional help, and stay positive during their journey towards healing and recovery?\n",
    "Here are examples of ShawGPT responding to viewer comments.\n",
    "\n",
    "Client: \"I'm going through some things with my feelings and myself. I barely sleep and I do nothing but think about how I'm worthless and how I shouldn't be here.\n",
    "I've never tried or contemplated suicide. I've always wanted to fix my issues, but I never get around to it.\n",
    "How can I change my feeling of being worthless to everyone?\"\n",
    "\n",
    "Wisp: Heck, sure thing, hun!Feelings of 'depression' have a deeply-rooted base in physical structures that may not be functioning very well at present; and, we can certainly turn them on again using means that you are able to find around the house and with relative ease :)After that, emotional and spiritual support will be liberally applied.\n",
    "\n",
    "\n",
    "Client: \"I have so many issues to address. I have a history of sexual abuse, Iâ€™m a breast cancer survivor and I am a lifetime insomniac.    I have a long history of depression and Iâ€™m beginning to have anxiety. I have low self esteem but Iâ€™ve been happily married for almost 35 years.\n",
    "   Iâ€™ve never had counseling about any of this. Do I have too many issues to address in counseling?\"\n",
    "\n",
    "Wisp: Absolutely not! It is never too much. The most important thing is that you are reaching out to get help. Â Therapy helps you to develop healthier coping strategies and that can help reduce the anxiety and depression as well as improve your sleep. This can all be done at a pace that is best for you. Your therapist can help you process all of this in a safe and supportive space.\n",
    "\n",
    "\n",
    "Client: I struggle with depression as well as pretty intense mood swings throughout the month. I experience highs where I feel amazing and energetic and then lows where I lack focus, energy, and generally have a more dark outlook on my life. How can I live a more balanced life?\n",
    "\n",
    "Wisp: It's fun to ride the roller coaster from time to time, isn't it? :)But, it's also weary-making, and leads to drainage that no man or woman can hardly anticipate!Balance comes with proper understanding of the different bodies you possess and how they function.And, to begin, we focus upon your physical, and move right up the latter to the spiritual, and begin cleaning you out.Unbalance is an experience of blocked energies that should be naturally flowing (call them what thou mayest); when blockages are removed, what is naturally there flows, and flows beautifully...\n",
    "\"\"\"\n",
    "\n",
    "for i in range(len(comment_list)):    \n",
    "    system_dict = {\"role\": \"system\", \"content\": intstructions_string_few_shot}\n",
    "    user_dict = {\"role\": \"user\", \"content\": comment_list[i]}\n",
    "    assistant_dict = {\"role\": \"assistant\", \"content\": response_list[i]}\n",
    "    \n",
    "    messages_list = [system_dict, user_dict, assistant_dict]\n",
    "    \n",
    "    example_list.append({\"messages\": messages_list})"
   ]
  },
  {
   "cell_type": "markdown",
   "id": "9d39724d",
   "metadata": {},
   "source": [
    "# Splitting into training and testing"
   ]
  },
  {
   "cell_type": "code",
   "execution_count": 10,
   "id": "4eb1cf53",
   "metadata": {},
   "outputs": [],
   "source": [
    "# create train/validation split\n",
    "validation_index_list = random.sample(range(0, len(example_list)-1), 700)\n",
    "\n",
    "validation_data_list = [example_list[index] for index in validation_index_list]\n",
    "\n",
    "for example in validation_data_list:\n",
    "    example_list.remove(example)"
   ]
  },
  {
   "cell_type": "markdown",
   "id": "a69fddd6",
   "metadata": {},
   "source": [
    "# Creating json files for the datasets"
   ]
  },
  {
   "cell_type": "code",
   "execution_count": 11,
   "id": "07ae4165",
   "metadata": {},
   "outputs": [],
   "source": [
    "# write examples to file\n",
    "with open('data/training-data.jsonl', 'w') as training_file:\n",
    "    for example in example_list:\n",
    "        json.dump(example, training_file)\n",
    "        training_file.write('\\n')\n",
    "\n",
    "with open('data/validation-data.jsonl', 'w') as validation_file:\n",
    "    for example in validation_data_list:\n",
    "        json.dump(example, validation_file)\n",
    "        validation_file.write('\\n')"
   ]
  },
  {
   "cell_type": "code",
   "execution_count": 12,
   "id": "d590771d",
   "metadata": {},
   "outputs": [],
   "source": [
    "training_file = client.files.create(\n",
    "  file = open(\"data/training-data.jsonl\", \"rb\"),\n",
    "  purpose = \"fine-tune\"\n",
    ")\n",
    "\n",
    "validation_file = client.files.create(\n",
    "  file = open(\"data/validation-data.jsonl\", \"rb\"),\n",
    "  purpose = \"fine-tune\"\n",
    ")"
   ]
  },
  {
   "cell_type": "markdown",
   "id": "22154eac",
   "metadata": {},
   "source": [
    "# Creating a model and fini tuning it"
   ]
  },
  {
   "cell_type": "code",
   "execution_count": 13,
   "id": "4062587c",
   "metadata": {},
   "outputs": [
    {
     "data": {
      "text/plain": [
       "FineTuningJob(id='ftjob-GDdU9auaPAHttlKHt2ZDrkzW', created_at=1710172021, error=Error(code=None, message=None, param=None, error=None), fine_tuned_model=None, finished_at=None, hyperparameters=Hyperparameters(n_epochs='auto', batch_size='auto', learning_rate_multiplier='auto'), model='gpt-3.5-turbo-0125', object='fine_tuning.job', organization_id='org-kHhHEN2bEHNy1LX3kVXNHGkg', result_files=[], status='validating_files', trained_tokens=None, training_file='file-T0ZnwRGGZ9Mx0KCbgl1pAGmT', validation_file='file-cVnRcEeKv5jDKaiiLEVaDHo6', user_provided_suffix='Wisp')"
      ]
     },
     "execution_count": 13,
     "metadata": {},
     "output_type": "execute_result"
    }
   ],
   "source": [
    "client.fine_tuning.jobs.create(\n",
    "    training_file = training_file.id,\n",
    "    validation_file = validation_file.id,\n",
    "    suffix = \"Wisp\",\n",
    "    model = \"gpt-3.5-turbo\"\n",
    ")"
   ]
  },
  {
   "cell_type": "markdown",
   "id": "0877e7d7",
   "metadata": {},
   "source": [
    "# Testing the model"
   ]
  },
  {
   "cell_type": "code",
   "execution_count": 13,
   "id": "0beb82b9",
   "metadata": {},
   "outputs": [],
   "source": [
    "test_comment = \"Hi! Iam feeling very depressed and sad.\""
   ]
  },
  {
   "cell_type": "code",
   "execution_count": 15,
   "id": "54ea785d",
   "metadata": {},
   "outputs": [],
   "source": [
    "response = client.chat.completions.create(\n",
    "    model=\"ft:gpt-3.5-turbo-0125:personal:wisp:91dhHss7\",\n",
    "    messages=[\n",
    "    {\"role\": \"system\", \"content\": intstructions_string_few_shot},\n",
    "    {\"role\": \"user\", \"content\": test_comment}\n",
    "    ]\n",
    ")"
   ]
  },
  {
   "cell_type": "code",
   "execution_count": 16,
   "id": "43dc3af4",
   "metadata": {},
   "outputs": [
    {
     "name": "stdout",
     "output_type": "stream",
     "text": [
      "Therapy can help you when you're feeling depressed and sad. You don't have to do this alone.\n"
     ]
    }
   ],
   "source": [
    "print(dict(response)['choices'][0].message.content)"
   ]
  },
  {
   "cell_type": "code",
   "execution_count": null,
   "id": "da8fe8ab",
   "metadata": {},
   "outputs": [],
   "source": []
  }
 ],
 "metadata": {
  "kernelspec": {
   "display_name": "Python 3 (ipykernel)",
   "language": "python",
   "name": "python3"
  },
  "language_info": {
   "codemirror_mode": {
    "name": "ipython",
    "version": 3
   },
   "file_extension": ".py",
   "mimetype": "text/x-python",
   "name": "python",
   "nbconvert_exporter": "python",
   "pygments_lexer": "ipython3",
   "version": "3.10.8"
  }
 },
 "nbformat": 4,
 "nbformat_minor": 5
}
